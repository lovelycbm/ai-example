{
 "cells": [
  {
   "cell_type": "code",
   "execution_count": 9,
   "metadata": {},
   "outputs": [],
   "source": [
    "import json\n",
    "import torch\n",
    "import torch.nn as nn\n",
    "import torch.optim as optim\n",
    "from torch.utils.data import Dataset, DataLoader\n",
    "from torchvision import transforms\n",
    "from PIL import Image\n",
    "import pandas as pd\n",
    "import numpy as np\n",
    "import os\n",
    "from model import CropYieldModel, CropDataset\n"
   ]
  },
  {
   "cell_type": "markdown",
   "metadata": {},
   "source": [
    "## 데이터 전처리 및 로딩"
   ]
  },
  {
   "cell_type": "code",
   "execution_count": 10,
   "metadata": {},
   "outputs": [
    {
     "name": "stdout",
     "output_type": "stream",
     "text": [
      "Creating dataset from data/json_directory/ and data/images_directory/\n",
      "Found 50 json files\n",
      "Loaded 50 valid samples out of 50 JSON files\n"
     ]
    }
   ],
   "source": [
    "# 데이터 전처리 및 로딩\n",
    "transform = transforms.Compose([\n",
    "    transforms.Resize((224, 224)),\n",
    "    transforms.ToTensor(),\n",
    "    transforms.Normalize(mean=[0.485, 0.456, 0.406], std=[0.229, 0.224, 0.225])\n",
    "])\n",
    "\n",
    "dataset = CropDataset('data/json_directory/', 'data/images_directory/', transform=transform)\n",
    "\n",
    "dataloader = DataLoader(dataset, batch_size=32, shuffle=True)\n"
   ]
  },
  {
   "cell_type": "markdown",
   "metadata": {},
   "source": [
    "## 모델, 손실 함수, 옵티마이저 초기화 "
   ]
  },
  {
   "cell_type": "code",
   "execution_count": 11,
   "metadata": {},
   "outputs": [],
   "source": [
    "device = torch.device(\"cuda\" if torch.cuda.is_available() else \"cpu\")\n",
    "model = CropYieldModel().to(device)\n",
    "criterion = nn.MSELoss()\n",
    "optimizer = optim.Adam(model.parameters(), lr=0.001)"
   ]
  },
  {
   "cell_type": "markdown",
   "metadata": {},
   "source": [
    "## 학습루프"
   ]
  },
  {
   "cell_type": "code",
   "execution_count": 12,
   "metadata": {},
   "outputs": [
    {
     "name": "stdout",
     "output_type": "stream",
     "text": [
      "Epoch [1/100], Loss: 134096.7969\n",
      "Epoch [2/100], Loss: 148828.5312\n",
      "Epoch [3/100], Loss: 128878.5938\n",
      "Epoch [4/100], Loss: 78818.5312\n",
      "Epoch [5/100], Loss: 40438.9922\n",
      "Epoch [6/100], Loss: 43283.9102\n",
      "Epoch [7/100], Loss: 44510.6719\n",
      "Epoch [8/100], Loss: 30282.8711\n",
      "Epoch [9/100], Loss: 38721.8047\n",
      "Epoch [10/100], Loss: 21593.6465\n",
      "Epoch [11/100], Loss: 16496.5039\n",
      "Epoch [12/100], Loss: 14210.1367\n",
      "Epoch [13/100], Loss: 9638.5029\n",
      "Epoch [14/100], Loss: 18299.3477\n",
      "Epoch [15/100], Loss: 19735.9414\n",
      "Epoch [16/100], Loss: 20505.0918\n",
      "Epoch [17/100], Loss: 11380.7598\n",
      "Epoch [18/100], Loss: 18356.6328\n",
      "Epoch [19/100], Loss: 15967.2207\n",
      "Epoch [20/100], Loss: 8315.0557\n",
      "Epoch [21/100], Loss: 11021.5527\n",
      "Epoch [22/100], Loss: 4402.8779\n",
      "Epoch [23/100], Loss: 7424.5435\n",
      "Epoch [24/100], Loss: 9836.5332\n",
      "Epoch [25/100], Loss: 15116.0850\n",
      "Epoch [26/100], Loss: 9320.3086\n",
      "Epoch [27/100], Loss: 12810.1807\n",
      "Epoch [28/100], Loss: 8308.9814\n",
      "Epoch [29/100], Loss: 6378.6738\n",
      "Epoch [30/100], Loss: 12898.9023\n",
      "Epoch [31/100], Loss: 3246.8611\n",
      "Epoch [32/100], Loss: 5323.8384\n",
      "Epoch [33/100], Loss: 6955.1978\n",
      "Epoch [34/100], Loss: 4834.1699\n",
      "Epoch [35/100], Loss: 6179.3203\n",
      "Epoch [36/100], Loss: 4889.7534\n",
      "Epoch [37/100], Loss: 4737.6616\n",
      "Epoch [38/100], Loss: 7578.1196\n",
      "Epoch [39/100], Loss: 2610.4749\n",
      "Epoch [40/100], Loss: 5571.6294\n",
      "Epoch [41/100], Loss: 3580.7732\n",
      "Epoch [42/100], Loss: 3638.4912\n",
      "Epoch [43/100], Loss: 2803.1445\n",
      "Epoch [44/100], Loss: 2808.7822\n",
      "Epoch [45/100], Loss: 1926.1365\n",
      "Epoch [46/100], Loss: 2659.1477\n",
      "Epoch [47/100], Loss: 3997.2695\n",
      "Epoch [48/100], Loss: 4587.3652\n",
      "Epoch [49/100], Loss: 3991.9927\n",
      "Epoch [50/100], Loss: 3749.8884\n",
      "Epoch [51/100], Loss: 3760.5083\n",
      "Epoch [52/100], Loss: 2557.8037\n",
      "Epoch [53/100], Loss: 2567.0173\n",
      "Epoch [54/100], Loss: 2553.9006\n",
      "Epoch [55/100], Loss: 3633.6562\n",
      "Epoch [56/100], Loss: 2013.3066\n",
      "Epoch [57/100], Loss: 3149.3965\n",
      "Epoch [58/100], Loss: 2847.1790\n",
      "Epoch [59/100], Loss: 3334.5107\n",
      "Epoch [60/100], Loss: 1736.8350\n",
      "Epoch [61/100], Loss: 1737.4006\n",
      "Epoch [62/100], Loss: 3706.9380\n",
      "Epoch [63/100], Loss: 1862.8878\n",
      "Epoch [64/100], Loss: 1639.9800\n",
      "Epoch [65/100], Loss: 1903.9995\n",
      "Epoch [66/100], Loss: 1783.1639\n",
      "Epoch [67/100], Loss: 1977.7888\n",
      "Epoch [68/100], Loss: 2207.9800\n",
      "Epoch [69/100], Loss: 2490.5083\n",
      "Epoch [70/100], Loss: 1789.8647\n",
      "Epoch [71/100], Loss: 1720.3214\n",
      "Epoch [72/100], Loss: 2352.0410\n",
      "Epoch [73/100], Loss: 2652.4915\n",
      "Epoch [74/100], Loss: 1870.4939\n",
      "Epoch [75/100], Loss: 1559.5425\n",
      "Epoch [76/100], Loss: 1716.6897\n",
      "Epoch [77/100], Loss: 1810.7351\n",
      "Epoch [78/100], Loss: 1826.6011\n",
      "Epoch [79/100], Loss: 1546.3436\n",
      "Epoch [80/100], Loss: 2174.0220\n",
      "Epoch [81/100], Loss: 2169.2354\n",
      "Epoch [82/100], Loss: 2511.7856\n",
      "Epoch [83/100], Loss: 1858.5463\n",
      "Epoch [84/100], Loss: 2082.5479\n",
      "Epoch [85/100], Loss: 2077.9099\n",
      "Epoch [86/100], Loss: 946.7383\n",
      "Epoch [87/100], Loss: 1316.3434\n",
      "Epoch [88/100], Loss: 1733.3480\n",
      "Epoch [89/100], Loss: 1534.2949\n",
      "Epoch [90/100], Loss: 2140.9761\n",
      "Epoch [91/100], Loss: 2101.4788\n",
      "Epoch [92/100], Loss: 1487.1082\n",
      "Epoch [93/100], Loss: 2710.0754\n",
      "Epoch [94/100], Loss: 2311.9351\n",
      "Epoch [95/100], Loss: 1614.0464\n",
      "Epoch [96/100], Loss: 1972.1431\n",
      "Epoch [97/100], Loss: 1078.5690\n",
      "Epoch [98/100], Loss: 1564.1897\n",
      "Epoch [99/100], Loss: 2305.5105\n",
      "Epoch [100/100], Loss: 1679.6256\n"
     ]
    }
   ],
   "source": [
    "num_epochs = 100\n",
    "for epoch in range(num_epochs):\n",
    "    model.train()\n",
    "    for i, (images, features, labels) in enumerate(dataloader):\n",
    "        images = images.to(device)\n",
    "        features = features.to(device)\n",
    "        labels = labels.to(device)\n",
    "\n",
    "        outputs = model(images, features)\n",
    "        loss = criterion(outputs, labels.unsqueeze(1))\n",
    "        \n",
    "        optimizer.zero_grad()\n",
    "        loss.backward()\n",
    "        optimizer.step()\n",
    "    \n",
    "    print(f'Epoch [{epoch+1}/{num_epochs}], Loss: {loss.item():.4f}')"
   ]
  },
  {
   "cell_type": "code",
   "execution_count": 13,
   "metadata": {},
   "outputs": [],
   "source": [
    "torch.save(model.state_dict(), 'model/crop_yield_model.pth')"
   ]
  }
 ],
 "metadata": {
  "kernelspec": {
   "display_name": "Python 3",
   "language": "python",
   "name": "python3"
  },
  "language_info": {
   "codemirror_mode": {
    "name": "ipython",
    "version": 3
   },
   "file_extension": ".py",
   "mimetype": "text/x-python",
   "name": "python",
   "nbconvert_exporter": "python",
   "pygments_lexer": "ipython3",
   "version": "3.10.6"
  }
 },
 "nbformat": 4,
 "nbformat_minor": 2
}
