{
 "cells": [
  {
   "cell_type": "code",
   "execution_count": 38,
   "metadata": {},
   "outputs": [],
   "source": [
    "import torch\n",
    "import torch.nn as nn\n",
    "from torch.utils.data import DataLoader\n",
    "from torchvision import transforms\n",
    "from PIL import Image\n",
    "import numpy as np\n",
    "import matplotlib.pyplot as plt\n",
    "from sklearn.metrics import mean_squared_error, r2_score, mean_absolute_error\n",
    "from model import CropDataset, CropYieldModel"
   ]
  },
  {
   "cell_type": "code",
   "execution_count": 39,
   "metadata": {},
   "outputs": [],
   "source": [
    "# MAPE 계산 함수 추가\n",
    "def mean_absolute_percentage_error(y_true, y_pred):\n",
    "    y_true, y_pred = np.array(y_true), np.array(y_pred)\n",
    "    return np.mean(np.abs((y_true - y_pred) / y_true)) * 100"
   ]
  },
  {
   "cell_type": "markdown",
   "metadata": {},
   "source": [
    "## 평가함수"
   ]
  },
  {
   "cell_type": "code",
   "execution_count": 40,
   "metadata": {},
   "outputs": [],
   "source": [
    "def evaluate_model(model, dataloader, device):\n",
    "    model.eval()\n",
    "    true_yields = []\n",
    "    pred_yields = []\n",
    "    \n",
    "    with torch.no_grad():\n",
    "        for images, features, labels in dataloader:\n",
    "            images = images.to(device)\n",
    "            features = features.to(device)\n",
    "            labels = labels.to(device)\n",
    "            \n",
    "            outputs = model(images, features)\n",
    "            pred_yields.extend(outputs.cpu().numpy().flatten())\n",
    "            true_yields.extend(labels.cpu().numpy().flatten())\n",
    "    \n",
    "    true_yields = np.array(true_yields)\n",
    "    pred_yields = np.array(pred_yields)\n",
    "    \n",
    "    mse = mean_squared_error(true_yields, pred_yields)\n",
    "    rmse = np.sqrt(mse)\n",
    "    r2 = r2_score(true_yields, pred_yields)\n",
    "    mae = mean_absolute_error(true_yields, pred_yields)\n",
    "    mape = mean_absolute_percentage_error(true_yields, pred_yields)\n",
    "    \n",
    "    return rmse, r2, mae, mape, true_yields, pred_yields\n"
   ]
  },
  {
   "cell_type": "markdown",
   "metadata": {},
   "source": [
    "## 데이터 준비"
   ]
  },
  {
   "cell_type": "code",
   "execution_count": 41,
   "metadata": {},
   "outputs": [],
   "source": [
    "transform = transforms.Compose([\n",
    "    transforms.Resize((224, 224)),\n",
    "    transforms.ToTensor(),\n",
    "    transforms.Normalize(mean=[0.485, 0.456, 0.406], std=[0.229, 0.224, 0.225])\n",
    "])"
   ]
  },
  {
   "cell_type": "markdown",
   "metadata": {},
   "source": [
    "## 테스트 데이터셋\n",
    "일차적으로는 원본데이터 활용했으나 추후 test 데이터 추가할 예정임."
   ]
  },
  {
   "cell_type": "code",
   "execution_count": 42,
   "metadata": {},
   "outputs": [
    {
     "name": "stdout",
     "output_type": "stream",
     "text": [
      "Creating dataset from data/json_directory/ and data/images_directory/\n",
      "Found 50 json files\n",
      "Loaded 50 valid samples out of 50 JSON files\n"
     ]
    }
   ],
   "source": [
    "test_dataset = CropDataset('data/json_directory/', 'data/images_directory/', transform=transform)\n",
    "test_dataloader = DataLoader(test_dataset, batch_size=32, shuffle=False)"
   ]
  },
  {
   "cell_type": "code",
   "execution_count": 43,
   "metadata": {},
   "outputs": [
    {
     "data": {
      "text/plain": [
       "<All keys matched successfully>"
      ]
     },
     "execution_count": 43,
     "metadata": {},
     "output_type": "execute_result"
    }
   ],
   "source": [
    "device = torch.device(\"cuda\" if torch.cuda.is_available() else \"cpu\")\n",
    "model = CropYieldModel().to(device)\n",
    "model.load_state_dict(torch.load('model/crop_yield_model.pth'))"
   ]
  },
  {
   "cell_type": "markdown",
   "metadata": {},
   "source": [
    "## 결과 "
   ]
  },
  {
   "cell_type": "code",
   "execution_count": 44,
   "metadata": {},
   "outputs": [
    {
     "name": "stdout",
     "output_type": "stream",
     "text": [
      "Root Mean Squared Error: 30.4636\n",
      "R-squared Score: 0.9209\n",
      "Mean Absolute Error: 24.5909\n",
      "Mean Absolute Percentage Error: 6.41%\n"
     ]
    }
   ],
   "source": [
    "rmse, r2, mae, mape, true_yields, pred_yields = evaluate_model(model, test_dataloader, device)\n",
    "\n",
    "print(f\"Root Mean Squared Error: {rmse:.4f}\")\n",
    "print(f\"R-squared Score: {r2:.4f}\")\n",
    "print(f\"Mean Absolute Error: {mae:.4f}\")\n",
    "print(f\"Mean Absolute Percentage Error: {mape:.2f}%\")\n"
   ]
  },
  {
   "cell_type": "code",
   "execution_count": 45,
   "metadata": {},
   "outputs": [],
   "source": [
    "plt.figure(figsize=(10, 6))\n",
    "plt.scatter(true_yields, pred_yields, alpha=0.5)\n",
    "plt.plot([min(true_yields), max(true_yields)], [min(true_yields), max(true_yields)], 'r--', lw=2)\n",
    "plt.xlabel(\"True Yield\")\n",
    "plt.ylabel(\"Predicted Yield\")\n",
    "plt.title(\"True vs Predicted Yield\")\n",
    "plt.savefig(\"results/yield_prediction_scatter.png\")\n",
    "plt.close()"
   ]
  },
  {
   "cell_type": "code",
   "execution_count": null,
   "metadata": {},
   "outputs": [],
   "source": []
  }
 ],
 "metadata": {
  "kernelspec": {
   "display_name": "Python 3",
   "language": "python",
   "name": "python3"
  },
  "language_info": {
   "codemirror_mode": {
    "name": "ipython",
    "version": 3
   },
   "file_extension": ".py",
   "mimetype": "text/x-python",
   "name": "python",
   "nbconvert_exporter": "python",
   "pygments_lexer": "ipython3",
   "version": "3.10.6"
  }
 },
 "nbformat": 4,
 "nbformat_minor": 2
}
